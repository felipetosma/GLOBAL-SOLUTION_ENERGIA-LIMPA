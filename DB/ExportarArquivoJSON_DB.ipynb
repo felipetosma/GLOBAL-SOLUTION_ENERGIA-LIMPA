{
  "nbformat": 4,
  "nbformat_minor": 0,
  "metadata": {
    "colab": {
      "provenance": []
    },
    "kernelspec": {
      "name": "python3",
      "display_name": "Python 3"
    },
    "language_info": {
      "name": "python"
    }
  },
  "cells": [
    {
      "cell_type": "code",
      "source": [
        "1. Baixar e Instalar o Oracle Instant Client\n",
        "Acesse o Oracle Instant Client Downloads.\n",
        "Escolha a versão compatível com seu sistema operacional e com a arquitetura do Python (32-bit ou 64-bit) e faça o download do pacote Instant Client Basic.\n",
        "2. Configurar o Caminho para o Oracle Instant Client\n",
        "Após baixar e extrair o Oracle Instant Client, você precisa garantir que o Python consiga encontrar as bibliotecas do Instant Client.\n",
        "\n",
        "No Windows:\n",
        "\n",
        "Adicione o caminho do diretório do Oracle Instant Client ao PATH do sistema:\n",
        "Abra o Painel de Controle > Sistema e Segurança > Sistema > Configurações avançadas do sistema.\n",
        "Clique em Variáveis de ambiente.\n",
        "Em Variáveis de sistema, selecione Path e clique em Editar.\n",
        "Adicione o caminho do diretório onde você extraiu o Oracle Instant Client.\n",
        "Depois de configurar, reinicie o terminal ou IDE."
      ],
      "metadata": {
        "id": "-IJnPZDMTUxD"
      },
      "execution_count": null,
      "outputs": []
    },
    {
      "cell_type": "code",
      "source": [
        "!pip install cx_Oracle"
      ],
      "metadata": {
        "id": "TkQhhPJoS-Ln"
      },
      "execution_count": null,
      "outputs": []
    },
    {
      "cell_type": "code",
      "source": [
        "import cx_Oracle\n",
        "\n",
        "# Configuração da conexão\n",
        "username = \"rm553528\"\n",
        "password = \"150592\"\n",
        "host = \"oracle.fiap.com.br\"          # Exemplo: \"localhost\" ou \"192.168.0.15\"\n",
        "port = \"1521\"              # Porta padrão do Oracle é 1521\n",
        "service_name = \"orcl\"  # Nome do serviço ou SID (por exemplo, \"orcl\")\n",
        "\n",
        "# String de conexão\n",
        "dsn = cx_Oracle.makedsn(host, port, service_name=service_name)\n",
        "\n",
        "# Conectar ao banco de dados\n",
        "conn = cx_Oracle.connect(username, password, dsn)\n",
        "\n",
        "# Verificar conexão\n",
        "print(\"Conexão bem-sucedida!\")\n",
        "\n",
        "\n"
      ],
      "metadata": {
        "colab": {
          "base_uri": "https://localhost:8080/",
          "height": 245
        },
        "id": "R0JLSPJXSDuL",
        "outputId": "08b08531-1921-4324-c2d1-79bb6a477fb4"
      },
      "execution_count": 5,
      "outputs": [
        {
          "output_type": "stream",
          "name": "stdout",
          "text": [
            "Requirement already satisfied: cx_Oracle in /usr/local/lib/python3.10/dist-packages (8.3.0)\n"
          ]
        },
        {
          "output_type": "error",
          "ename": "DatabaseError",
          "evalue": "DPI-1047: Cannot locate a 64-bit Oracle Client library: \"libclntsh.so: cannot open shared object file: No such file or directory\". See https://cx-oracle.readthedocs.io/en/latest/user_guide/installation.html for help",
          "traceback": [
            "\u001b[0;31m---------------------------------------------------------------------------\u001b[0m",
            "\u001b[0;31mDatabaseError\u001b[0m                             Traceback (most recent call last)",
            "\u001b[0;32m<ipython-input-5-a30bd7a01d73>\u001b[0m in \u001b[0;36m<cell line: 15>\u001b[0;34m()\u001b[0m\n\u001b[1;32m     13\u001b[0m \u001b[0;34m\u001b[0m\u001b[0m\n\u001b[1;32m     14\u001b[0m \u001b[0;31m# Conectar ao banco de dados\u001b[0m\u001b[0;34m\u001b[0m\u001b[0;34m\u001b[0m\u001b[0m\n\u001b[0;32m---> 15\u001b[0;31m \u001b[0mconn\u001b[0m \u001b[0;34m=\u001b[0m \u001b[0mcx_Oracle\u001b[0m\u001b[0;34m.\u001b[0m\u001b[0mconnect\u001b[0m\u001b[0;34m(\u001b[0m\u001b[0musername\u001b[0m\u001b[0;34m,\u001b[0m \u001b[0mpassword\u001b[0m\u001b[0;34m,\u001b[0m \u001b[0mdsn\u001b[0m\u001b[0;34m)\u001b[0m\u001b[0;34m\u001b[0m\u001b[0;34m\u001b[0m\u001b[0m\n\u001b[0m\u001b[1;32m     16\u001b[0m \u001b[0;34m\u001b[0m\u001b[0m\n\u001b[1;32m     17\u001b[0m \u001b[0;31m# Verificar conexão\u001b[0m\u001b[0;34m\u001b[0m\u001b[0;34m\u001b[0m\u001b[0m\n",
            "\u001b[0;31mDatabaseError\u001b[0m: DPI-1047: Cannot locate a 64-bit Oracle Client library: \"libclntsh.so: cannot open shared object file: No such file or directory\". See https://cx-oracle.readthedocs.io/en/latest/user_guide/installation.html for help"
          ]
        }
      ]
    },
    {
      "cell_type": "code",
      "execution_count": null,
      "metadata": {
        "id": "j93CRj7hRFyT"
      },
      "outputs": [],
      "source": [
        "import json\n",
        "\n",
        "# Lista de tabelas para exportação\n",
        "tabelas = [\n",
        "    \"gs_el_historico_notificacoes\",\n",
        "    \"gs_el_historico_relatorio\",\n",
        "    \"gs_el_localizacao_reator\",\n",
        "    \"gs_el_niveis_operacionais\",\n",
        "    \"gs_el_notificacoes\",\n",
        "    \"gs_el_operadores\",\n",
        "    \"gs_el_reatores\",\n",
        "    \"gs_el_relatorios_turno\",\n",
        "    \"gs_el_status_notificacao\",\n",
        "    \"gs_el_tipo_reator\",\n",
        "    \"gs_el_turnos\"\n",
        "]\n",
        "\n",
        "# Dicionário para armazenar os dados de todas as tabelas\n",
        "dados_banco = {}\n",
        "\n",
        "# Função para exportar dados de cada tabela para o dicionário principal\n",
        "def exportar_tabela_para_json(nome_tabela):\n",
        "    # Obter os dados da tabela\n",
        "    cursor.execute(f\"SELECT * FROM {nome_tabela}\")\n",
        "\n",
        "    # Nome das colunas\n",
        "    colunas = [col[0] for col in cursor.description]\n",
        "\n",
        "    # Transformar resultados em lista de dicionários\n",
        "    dados = [dict(zip(colunas, linha)) for linha in cursor]\n",
        "\n",
        "    # Adicionar os dados da tabela ao dicionário principal\n",
        "    dados_banco[nome_tabela] = dados\n",
        "\n",
        "# Exportar cada tabela da lista para o dicionário principal\n",
        "for tabela in tabelas:\n",
        "    exportar_tabela_para_json(tabela)\n",
        "\n",
        "# Salvar todos os dados em um único arquivo JSON\n",
        "with open(\"dados_banco.json\", \"w\") as arquivo_json:\n",
        "    json.dump(dados_banco, arquivo_json, indent=4)\n",
        "\n",
        "print(\"Dados de todas as tabelas exportados para dados_banco.json\")\n",
        "\n",
        "# Fechar conexão\n",
        "cursor.close()\n",
        "conn.close()\n"
      ]
    }
  ]
}